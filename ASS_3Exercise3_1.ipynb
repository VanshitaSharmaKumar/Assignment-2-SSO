{
 "cells": [
  {
   "cell_type": "markdown",
   "id": "6db9df7e",
   "metadata": {},
   "source": [
    "### Exercise 3.1"
   ]
  },
  {
   "cell_type": "markdown",
   "id": "5e3fcbf1",
   "metadata": {},
   "source": [
    "#### 3.1 a"
   ]
  },
  {
   "cell_type": "code",
   "execution_count": null,
   "id": "f22def89",
   "metadata": {},
   "outputs": [
    {
     "name": "stdout",
     "output_type": "stream",
     "text": [
      "Job  Start  Compl  Tardiness\n",
      "  9      0      2          0\n",
      "  6      2      3          0\n",
      "  7      2      2          0\n",
      "  1      3      7          0\n",
      "  2      7     12          0\n",
      "  3     12     15          0\n",
      "  5     15     22          2\n",
      "  4     22     27          2\n",
      "  8     27     30          0\n",
      " 10     30     40         20\n",
      "Total tardiness: 24\n"
     ]
    }
   ],
   "source": [
    "import pulp as pl\n",
    "from ASS_3_data_3_1 import J, p, r, d, c, M\n",
    "\n",
    "# the decision variables\n",
    "S   = pl.LpVariable.dicts(\"S\",   J, lowBound=0)                  # start times\n",
    "Z   = pl.LpVariable.dicts(\"Z\",   J, lowBound=0)                  # tardiness\n",
    "Yij = pl.LpVariable.dicts(\"Y\", [(i,j) for i in J for j in J if i!=j], 0, 1, pl.LpBinary)  # order\n",
    "\n",
    "m = pl.LpProblem(\"SingleMachine_Tardiness\", pl.LpMinimize)\n",
    "\n",
    "# Objective is to minimize sum of (weighted) tardiness\n",
    "m += pl.lpSum(c[j]*Z[j] for j in J)\n",
    "\n",
    "# Release times\n",
    "for j in J:\n",
    "    m += S[j] >= r[j]\n",
    "\n",
    "# No overlap via order variables (Lecture 9 slide 29)\n",
    "for i in J:\n",
    "    for j in J:\n",
    "        if i == j: \n",
    "            continue\n",
    "        m += S[i] + p[i] <= S[j] + M*(1 - Yij[(i,j)])\n",
    "\n",
    "# Exactly one order per unordered pair (Lecture 9 slide 29)\n",
    "for i in J:\n",
    "    for j in J:\n",
    "        if i < j:\n",
    "            m += Yij[(i,j)] + Yij[(j,i)] == 1\n",
    "\n",
    "# Tardiness linearization (Lecture 9 slide 30)\n",
    "for j in J:\n",
    "    m += Z[j] >= S[j] + p[j] - d[j]\n",
    "    m += Z[j] >= 0\n",
    "\n",
    "# Solve\n",
    "m.solve(pl.PULP_CBC_CMD(msg=False))\n",
    "\n",
    "# Report\n",
    "sched = sorted([(j, pl.value(S[j]), pl.value(S[j])+p[j], pl.value(Z[j])) for j in J], key=lambda x: x[1])\n",
    "print(\"Job  Start  Compl  Tardiness\")\n",
    "for row in sched:\n",
    "    print(f\"{int(row[0]):>3}  {row[1]:>5.0f}  {row[2]:>5.0f}  {row[3]:>9.0f}\")\n",
    "print(\"Total tardiness:\", int(sum(z for _,_,_,z in sched)))"
   ]
  },
  {
   "cell_type": "markdown",
   "id": "4b5b5ab7",
   "metadata": {},
   "source": [
    "With only processing times and release/due dates, the optimal sequence keeps most jobs close to their due dates; lateness is limited. The reason total tardiness is only 24, means the solver can freely interleave types, so it chases tight due dates (EDD-like) right after releases, minimizing spillover. "
   ]
  },
  {
   "cell_type": "markdown",
   "id": "81352708",
   "metadata": {},
   "source": [
    "#### 3.1 b"
   ]
  },
  {
   "cell_type": "code",
   "execution_count": 6,
   "id": "d3c85eac",
   "metadata": {},
   "outputs": [
    {
     "name": "stdout",
     "output_type": "stream",
     "text": [
      "Job Type Start Compl Tard\n",
      "  6     1     0     1    0\n",
      "  9     2     2     4    0\n",
      "  2     2     4     9    0\n",
      "  7     2     4     4    0\n",
      "  1     1    10    14    3\n",
      "  3     1    14    17    0\n",
      "  4     1    17    22    0\n",
      "  5     2    23    30   10\n",
      "  8     2    30    33    3\n",
      " 10     1    34    44   24\n",
      "Total tardiness: 40\n"
     ]
    }
   ],
   "source": [
    "# Sieve types (from question): {1,3,4,6,10} = type 1 ; others type 2\n",
    "type1 = {1,3,4,6,10}\n",
    "type_of = {j: (1 if j in type1 else 2) for j in J}\n",
    "\n",
    "# Sequence-dependent setup: 1 hour if types differ, else 0\n",
    "s = {(i,j): (1 if type_of[i] != type_of[j] else 0) for i in J for j in J if i!=j}\n",
    "\n",
    "S   = pl.LpVariable.dicts(\"S\",   J, lowBound=0)\n",
    "Z   = pl.LpVariable.dicts(\"Z\",   J, lowBound=0)\n",
    "Yij = pl.LpVariable.dicts(\"Y\", [(i,j) for i in J for j in J if i!=j], 0, 1, pl.LpBinary)\n",
    "\n",
    "m = pl.LpProblem(\"SingleMachine_Tardiness_WithChangeovers\", pl.LpMinimize)\n",
    "m += pl.lpSum(c[j]*Z[j] for j in J)\n",
    "\n",
    "for j in J:\n",
    "    m += S[j] >= r[j]\n",
    "\n",
    "# No overlap now includes setup time s[i,j] if i precedes j\n",
    "for i in J:\n",
    "    for j in J:\n",
    "        if i == j: \n",
    "            continue\n",
    "        m += S[i] + p[i] + s[(i,j)] <= S[j] + M*(1 - Yij[(i,j)])\n",
    "\n",
    "for i in J:\n",
    "    for j in J:\n",
    "        if i < j:\n",
    "            m += Yij[(i,j)] + Yij[(j,i)] == 1\n",
    "\n",
    "for j in J:\n",
    "    m += Z[j] >= S[j] + p[j] - d[j]\n",
    "    m += Z[j] >= 0\n",
    "\n",
    "m.solve(pl.PULP_CBC_CMD(msg=False))\n",
    "\n",
    "sched = sorted([(j, type_of[j], pl.value(S[j]), pl.value(S[j])+p[j], pl.value(Z[j])) for j in J],\n",
    "               key=lambda x: x[2])\n",
    "print(\"Job Type Start Compl Tard\")\n",
    "for j,t,s,cpl,td in sched:\n",
    "    print(f\"{j:>3}  {t:>4} {s:>5.0f} {cpl:>5.0f} {td:>4.0f}\")\n",
    "print(\"Total tardiness:\", int(sum(td for *_,td in sched)))"
   ]
  },
  {
   "cell_type": "markdown",
   "id": "f6ed9fa6",
   "metadata": {},
   "source": [
    "When 1-hour sieve changeovers are introduced, the machine must spend additional time switching between job types, which pushes several tasks past their due dates. As a result, total tardiness increases from 24 in the no-changeover case to 40, about a 67% rise. This jump occurs because the solver now prefers to batch jobs of the same type together to avoid frequent setups, but this batching delays some time sensitive jobs of other types. In essence, the system sacrifices punctuality to reduce setup time, highlighting the trade-off between minimizing changeovers and meeting due dates."
   ]
  }
 ],
 "metadata": {
  "kernelspec": {
   "display_name": "Python 3",
   "language": "python",
   "name": "python3"
  },
  "language_info": {
   "codemirror_mode": {
    "name": "ipython",
    "version": 3
   },
   "file_extension": ".py",
   "mimetype": "text/x-python",
   "name": "python",
   "nbconvert_exporter": "python",
   "pygments_lexer": "ipython3",
   "version": "3.9.11"
  }
 },
 "nbformat": 4,
 "nbformat_minor": 5
}
